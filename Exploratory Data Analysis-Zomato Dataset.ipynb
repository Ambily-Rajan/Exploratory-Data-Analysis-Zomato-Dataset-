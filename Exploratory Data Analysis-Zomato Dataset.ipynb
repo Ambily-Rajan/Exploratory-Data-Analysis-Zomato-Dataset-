{
 "cells": [
  {
   "cell_type": "markdown",
   "id": "8fb2b6d6-758b-4be2-bff4-a55ade2bed96",
   "metadata": {},
   "source": [
    "<div style=\"background-color:#FFD700; padding:10px; text-align:center;\">\n",
    "    <h1 style=\"font-weight:bold; color:black;\">Exploratory Data Analysis - Zomato Dataset</h1>\n",
    "</div>"
   ]
  },
  {
   "cell_type": "code",
   "execution_count": 55,
   "id": "29e3a66c-e19b-445f-ad11-1dbb4f987d72",
   "metadata": {},
   "outputs": [],
   "source": [
    "# Importing Libraries\n",
    "import pandas as pd\n",
    "import numpy as np\n",
    "import matplotlib.pyplot as plt\n",
    "import seaborn as sns\n",
    "import matplotlib\n",
    "%matplotlib inline"
   ]
  },
  {
   "cell_type": "code",
   "execution_count": 56,
   "id": "0a412f00-ef4c-4191-9e53-d3a53d9c0cea",
   "metadata": {},
   "outputs": [],
   "source": [
    "df = pd.read_csv('zomato.csv', encoding='latin-1')"
   ]
  },
  {
   "cell_type": "code",
   "execution_count": 57,
   "id": "d0f3d7d0-c3e9-4f47-adf5-bb088ba17f8e",
   "metadata": {},
   "outputs": [
    {
     "data": {
      "text/html": [
       "<div>\n",
       "<style scoped>\n",
       "    .dataframe tbody tr th:only-of-type {\n",
       "        vertical-align: middle;\n",
       "    }\n",
       "\n",
       "    .dataframe tbody tr th {\n",
       "        vertical-align: top;\n",
       "    }\n",
       "\n",
       "    .dataframe thead th {\n",
       "        text-align: right;\n",
       "    }\n",
       "</style>\n",
       "<table border=\"1\" class=\"dataframe\">\n",
       "  <thead>\n",
       "    <tr style=\"text-align: right;\">\n",
       "      <th></th>\n",
       "      <th>Restaurant ID</th>\n",
       "      <th>Restaurant Name</th>\n",
       "      <th>Country Code</th>\n",
       "      <th>City</th>\n",
       "      <th>Address</th>\n",
       "      <th>Locality</th>\n",
       "      <th>Locality Verbose</th>\n",
       "      <th>Longitude</th>\n",
       "      <th>Latitude</th>\n",
       "      <th>Cuisines</th>\n",
       "      <th>...</th>\n",
       "      <th>Currency</th>\n",
       "      <th>Has Table booking</th>\n",
       "      <th>Has Online delivery</th>\n",
       "      <th>Is delivering now</th>\n",
       "      <th>Switch to order menu</th>\n",
       "      <th>Price range</th>\n",
       "      <th>Aggregate rating</th>\n",
       "      <th>Rating color</th>\n",
       "      <th>Rating text</th>\n",
       "      <th>Votes</th>\n",
       "    </tr>\n",
       "  </thead>\n",
       "  <tbody>\n",
       "    <tr>\n",
       "      <th>0</th>\n",
       "      <td>6317637</td>\n",
       "      <td>Le Petit Souffle</td>\n",
       "      <td>162</td>\n",
       "      <td>Makati City</td>\n",
       "      <td>Third Floor, Century City Mall, Kalayaan Avenu...</td>\n",
       "      <td>Century City Mall, Poblacion, Makati City</td>\n",
       "      <td>Century City Mall, Poblacion, Makati City, Mak...</td>\n",
       "      <td>121.027535</td>\n",
       "      <td>14.565443</td>\n",
       "      <td>French, Japanese, Desserts</td>\n",
       "      <td>...</td>\n",
       "      <td>Botswana Pula(P)</td>\n",
       "      <td>Yes</td>\n",
       "      <td>No</td>\n",
       "      <td>No</td>\n",
       "      <td>No</td>\n",
       "      <td>3</td>\n",
       "      <td>4.8</td>\n",
       "      <td>Dark Green</td>\n",
       "      <td>Excellent</td>\n",
       "      <td>314</td>\n",
       "    </tr>\n",
       "    <tr>\n",
       "      <th>1</th>\n",
       "      <td>6304287</td>\n",
       "      <td>Izakaya Kikufuji</td>\n",
       "      <td>162</td>\n",
       "      <td>Makati City</td>\n",
       "      <td>Little Tokyo, 2277 Chino Roces Avenue, Legaspi...</td>\n",
       "      <td>Little Tokyo, Legaspi Village, Makati City</td>\n",
       "      <td>Little Tokyo, Legaspi Village, Makati City, Ma...</td>\n",
       "      <td>121.014101</td>\n",
       "      <td>14.553708</td>\n",
       "      <td>Japanese</td>\n",
       "      <td>...</td>\n",
       "      <td>Botswana Pula(P)</td>\n",
       "      <td>Yes</td>\n",
       "      <td>No</td>\n",
       "      <td>No</td>\n",
       "      <td>No</td>\n",
       "      <td>3</td>\n",
       "      <td>4.5</td>\n",
       "      <td>Dark Green</td>\n",
       "      <td>Excellent</td>\n",
       "      <td>591</td>\n",
       "    </tr>\n",
       "    <tr>\n",
       "      <th>2</th>\n",
       "      <td>6300002</td>\n",
       "      <td>Heat - Edsa Shangri-La</td>\n",
       "      <td>162</td>\n",
       "      <td>Mandaluyong City</td>\n",
       "      <td>Edsa Shangri-La, 1 Garden Way, Ortigas, Mandal...</td>\n",
       "      <td>Edsa Shangri-La, Ortigas, Mandaluyong City</td>\n",
       "      <td>Edsa Shangri-La, Ortigas, Mandaluyong City, Ma...</td>\n",
       "      <td>121.056831</td>\n",
       "      <td>14.581404</td>\n",
       "      <td>Seafood, Asian, Filipino, Indian</td>\n",
       "      <td>...</td>\n",
       "      <td>Botswana Pula(P)</td>\n",
       "      <td>Yes</td>\n",
       "      <td>No</td>\n",
       "      <td>No</td>\n",
       "      <td>No</td>\n",
       "      <td>4</td>\n",
       "      <td>4.4</td>\n",
       "      <td>Green</td>\n",
       "      <td>Very Good</td>\n",
       "      <td>270</td>\n",
       "    </tr>\n",
       "    <tr>\n",
       "      <th>3</th>\n",
       "      <td>6318506</td>\n",
       "      <td>Ooma</td>\n",
       "      <td>162</td>\n",
       "      <td>Mandaluyong City</td>\n",
       "      <td>Third Floor, Mega Fashion Hall, SM Megamall, O...</td>\n",
       "      <td>SM Megamall, Ortigas, Mandaluyong City</td>\n",
       "      <td>SM Megamall, Ortigas, Mandaluyong City, Mandal...</td>\n",
       "      <td>121.056475</td>\n",
       "      <td>14.585318</td>\n",
       "      <td>Japanese, Sushi</td>\n",
       "      <td>...</td>\n",
       "      <td>Botswana Pula(P)</td>\n",
       "      <td>No</td>\n",
       "      <td>No</td>\n",
       "      <td>No</td>\n",
       "      <td>No</td>\n",
       "      <td>4</td>\n",
       "      <td>4.9</td>\n",
       "      <td>Dark Green</td>\n",
       "      <td>Excellent</td>\n",
       "      <td>365</td>\n",
       "    </tr>\n",
       "    <tr>\n",
       "      <th>4</th>\n",
       "      <td>6314302</td>\n",
       "      <td>Sambo Kojin</td>\n",
       "      <td>162</td>\n",
       "      <td>Mandaluyong City</td>\n",
       "      <td>Third Floor, Mega Atrium, SM Megamall, Ortigas...</td>\n",
       "      <td>SM Megamall, Ortigas, Mandaluyong City</td>\n",
       "      <td>SM Megamall, Ortigas, Mandaluyong City, Mandal...</td>\n",
       "      <td>121.057508</td>\n",
       "      <td>14.584450</td>\n",
       "      <td>Japanese, Korean</td>\n",
       "      <td>...</td>\n",
       "      <td>Botswana Pula(P)</td>\n",
       "      <td>Yes</td>\n",
       "      <td>No</td>\n",
       "      <td>No</td>\n",
       "      <td>No</td>\n",
       "      <td>4</td>\n",
       "      <td>4.8</td>\n",
       "      <td>Dark Green</td>\n",
       "      <td>Excellent</td>\n",
       "      <td>229</td>\n",
       "    </tr>\n",
       "  </tbody>\n",
       "</table>\n",
       "<p>5 rows × 21 columns</p>\n",
       "</div>"
      ],
      "text/plain": [
       "   Restaurant ID         Restaurant Name  Country Code              City  \\\n",
       "0        6317637        Le Petit Souffle           162       Makati City   \n",
       "1        6304287        Izakaya Kikufuji           162       Makati City   \n",
       "2        6300002  Heat - Edsa Shangri-La           162  Mandaluyong City   \n",
       "3        6318506                    Ooma           162  Mandaluyong City   \n",
       "4        6314302             Sambo Kojin           162  Mandaluyong City   \n",
       "\n",
       "                                             Address  \\\n",
       "0  Third Floor, Century City Mall, Kalayaan Avenu...   \n",
       "1  Little Tokyo, 2277 Chino Roces Avenue, Legaspi...   \n",
       "2  Edsa Shangri-La, 1 Garden Way, Ortigas, Mandal...   \n",
       "3  Third Floor, Mega Fashion Hall, SM Megamall, O...   \n",
       "4  Third Floor, Mega Atrium, SM Megamall, Ortigas...   \n",
       "\n",
       "                                     Locality  \\\n",
       "0   Century City Mall, Poblacion, Makati City   \n",
       "1  Little Tokyo, Legaspi Village, Makati City   \n",
       "2  Edsa Shangri-La, Ortigas, Mandaluyong City   \n",
       "3      SM Megamall, Ortigas, Mandaluyong City   \n",
       "4      SM Megamall, Ortigas, Mandaluyong City   \n",
       "\n",
       "                                    Locality Verbose   Longitude   Latitude  \\\n",
       "0  Century City Mall, Poblacion, Makati City, Mak...  121.027535  14.565443   \n",
       "1  Little Tokyo, Legaspi Village, Makati City, Ma...  121.014101  14.553708   \n",
       "2  Edsa Shangri-La, Ortigas, Mandaluyong City, Ma...  121.056831  14.581404   \n",
       "3  SM Megamall, Ortigas, Mandaluyong City, Mandal...  121.056475  14.585318   \n",
       "4  SM Megamall, Ortigas, Mandaluyong City, Mandal...  121.057508  14.584450   \n",
       "\n",
       "                           Cuisines  ...          Currency Has Table booking  \\\n",
       "0        French, Japanese, Desserts  ...  Botswana Pula(P)               Yes   \n",
       "1                          Japanese  ...  Botswana Pula(P)               Yes   \n",
       "2  Seafood, Asian, Filipino, Indian  ...  Botswana Pula(P)               Yes   \n",
       "3                   Japanese, Sushi  ...  Botswana Pula(P)                No   \n",
       "4                  Japanese, Korean  ...  Botswana Pula(P)               Yes   \n",
       "\n",
       "  Has Online delivery Is delivering now Switch to order menu Price range  \\\n",
       "0                  No                No                   No           3   \n",
       "1                  No                No                   No           3   \n",
       "2                  No                No                   No           4   \n",
       "3                  No                No                   No           4   \n",
       "4                  No                No                   No           4   \n",
       "\n",
       "   Aggregate rating  Rating color Rating text Votes  \n",
       "0               4.8    Dark Green   Excellent   314  \n",
       "1               4.5    Dark Green   Excellent   591  \n",
       "2               4.4         Green   Very Good   270  \n",
       "3               4.9    Dark Green   Excellent   365  \n",
       "4               4.8    Dark Green   Excellent   229  \n",
       "\n",
       "[5 rows x 21 columns]"
      ]
     },
     "execution_count": 57,
     "metadata": {},
     "output_type": "execute_result"
    }
   ],
   "source": [
    "df.head()"
   ]
  },
  {
   "cell_type": "code",
   "execution_count": 58,
   "id": "f3b6c980-889e-49e9-8943-bb3e16fc8e98",
   "metadata": {},
   "outputs": [
    {
     "data": {
      "text/plain": [
       "(9551, 21)"
      ]
     },
     "execution_count": 58,
     "metadata": {},
     "output_type": "execute_result"
    }
   ],
   "source": [
    "#Shape of Dataset\n",
    "df.shape"
   ]
  },
  {
   "cell_type": "markdown",
   "id": "9c490861-1919-40e0-bce2-db63f82a9a80",
   "metadata": {},
   "source": [
    "<div style=\"background-color:silver; padding:10px;\">\n",
    "    <h5 style=\"font-weight:bold; color:black; text-align:left;\"> Displaying column names</h5>\n",
    "</div>"
   ]
  },
  {
   "cell_type": "code",
   "execution_count": 59,
   "id": "e91b6807-3e34-43fe-941d-77fe28b37ba0",
   "metadata": {},
   "outputs": [
    {
     "data": {
      "text/plain": [
       "Index(['Restaurant ID', 'Restaurant Name', 'Country Code', 'City', 'Address',\n",
       "       'Locality', 'Locality Verbose', 'Longitude', 'Latitude', 'Cuisines',\n",
       "       'Average Cost for two', 'Currency', 'Has Table booking',\n",
       "       'Has Online delivery', 'Is delivering now', 'Switch to order menu',\n",
       "       'Price range', 'Aggregate rating', 'Rating color', 'Rating text',\n",
       "       'Votes'],\n",
       "      dtype='object')"
      ]
     },
     "execution_count": 59,
     "metadata": {},
     "output_type": "execute_result"
    }
   ],
   "source": [
    "df.columns"
   ]
  },
  {
   "cell_type": "code",
   "execution_count": 60,
   "id": "325b36f7-8ce9-42a3-a6e5-849831990047",
   "metadata": {},
   "outputs": [
    {
     "name": "stdout",
     "output_type": "stream",
     "text": [
      "<class 'pandas.core.frame.DataFrame'>\n",
      "RangeIndex: 9551 entries, 0 to 9550\n",
      "Data columns (total 21 columns):\n",
      " #   Column                Non-Null Count  Dtype  \n",
      "---  ------                --------------  -----  \n",
      " 0   Restaurant ID         9551 non-null   int64  \n",
      " 1   Restaurant Name       9551 non-null   object \n",
      " 2   Country Code          9551 non-null   int64  \n",
      " 3   City                  9551 non-null   object \n",
      " 4   Address               9551 non-null   object \n",
      " 5   Locality              9551 non-null   object \n",
      " 6   Locality Verbose      9551 non-null   object \n",
      " 7   Longitude             9551 non-null   float64\n",
      " 8   Latitude              9551 non-null   float64\n",
      " 9   Cuisines              9542 non-null   object \n",
      " 10  Average Cost for two  9551 non-null   int64  \n",
      " 11  Currency              9551 non-null   object \n",
      " 12  Has Table booking     9551 non-null   object \n",
      " 13  Has Online delivery   9551 non-null   object \n",
      " 14  Is delivering now     9551 non-null   object \n",
      " 15  Switch to order menu  9551 non-null   object \n",
      " 16  Price range           9551 non-null   int64  \n",
      " 17  Aggregate rating      9551 non-null   float64\n",
      " 18  Rating color          9551 non-null   object \n",
      " 19  Rating text           9551 non-null   object \n",
      " 20  Votes                 9551 non-null   int64  \n",
      "dtypes: float64(3), int64(5), object(13)\n",
      "memory usage: 1.5+ MB\n"
     ]
    }
   ],
   "source": [
    "df.info()"
   ]
  },
  {
   "cell_type": "markdown",
   "id": "5045a235-7666-4e3c-9f48-68372ecb0926",
   "metadata": {},
   "source": [
    "<div style=\"background-color:silver; padding:10px;\">\n",
    "    <h5 style=\"font-weight:bold; color:black; text-align:left;\"> Checking for duplicate values.</h5>\n",
    "</div>"
   ]
  },
  {
   "cell_type": "code",
   "execution_count": 61,
   "id": "95cadec3-5f76-4dc4-bb83-56a079bdab32",
   "metadata": {},
   "outputs": [
    {
     "data": {
      "text/plain": [
       "0"
      ]
     },
     "execution_count": 61,
     "metadata": {},
     "output_type": "execute_result"
    }
   ],
   "source": [
    "df.duplicated().sum()"
   ]
  },
  {
   "cell_type": "markdown",
   "id": "d30adbb5-e69b-4949-ae7a-ab1001e36ca4",
   "metadata": {},
   "source": [
    "Clearly shows that there is no duplicate value in this dataset."
   ]
  },
  {
   "cell_type": "markdown",
   "id": "8f94742c-040c-4eda-a91b-9172921a11ca",
   "metadata": {},
   "source": [
    "<div style=\"background-color:silver; padding:10px;\">\r\n",
    "    <h2 style=\"font-weight:bold; color:black; text-align:left;\">Actions To Perform During  The Analysis.</h2>\r\n",
    "</div>\r\n",
    "\r\n",
    "1. Find Missing Values.  \r\n",
    "2. Explore Categorical Variables.  \r\n",
    "3. Explore Numerical Variables.  \r\n",
    "4. Find Relationship Between Feates.  \r\n",
    "\n"
   ]
  },
  {
   "cell_type": "markdown",
   "id": "c5ca2aa0-0eac-4f81-b815-98b5adcbf0b7",
   "metadata": {},
   "source": [
    "<div style=\"background-color:silver; padding:10px;\">\n",
    "    <h5 style=\"font-weight:bold; color:black; text-align:left;\"> Checking the number of missing values in each column</h5>\n",
    "</div>"
   ]
  },
  {
   "cell_type": "code",
   "execution_count": 62,
   "id": "7525868f-4ed0-4373-ad9b-abe159548ce3",
   "metadata": {},
   "outputs": [
    {
     "data": {
      "text/plain": [
       "['No missing values in Restaurant ID',\n",
       " 'No missing values in Restaurant Name',\n",
       " 'No missing values in Country Code',\n",
       " 'No missing values in City',\n",
       " 'No missing values in Address',\n",
       " 'No missing values in Locality',\n",
       " 'No missing values in Locality Verbose',\n",
       " 'No missing values in Longitude',\n",
       " 'No missing values in Latitude',\n",
       " 'Cuisines: 9 missing values',\n",
       " 'No missing values in Average Cost for two',\n",
       " 'No missing values in Currency',\n",
       " 'No missing values in Has Table booking',\n",
       " 'No missing values in Has Online delivery',\n",
       " 'No missing values in Is delivering now',\n",
       " 'No missing values in Switch to order menu',\n",
       " 'No missing values in Price range',\n",
       " 'No missing values in Aggregate rating',\n",
       " 'No missing values in Rating color',\n",
       " 'No missing values in Rating text',\n",
       " 'No missing values in Votes']"
      ]
     },
     "execution_count": 62,
     "metadata": {},
     "output_type": "execute_result"
    }
   ],
   "source": [
    "[f\"{column}: {df[column].isnull().sum()} missing values\" if df[column].isnull().sum() > 0 else f'No missing values in {column}' for column in df.columns]"
   ]
  },
  {
   "cell_type": "markdown",
   "id": "a3ca6354-4e00-4301-9531-43b164d4abaf",
   "metadata": {},
   "source": [
    "<div style=\"background-color:silver; padding:10px;\">\n",
    "    <h5 style=\"font-weight:bold; color:black; text-align:left;\"> Merging data  from the excel- country code .</h5>\n",
    "</div>"
   ]
  },
  {
   "cell_type": "code",
   "execution_count": 63,
   "id": "08ca6e2d-4e94-403b-a2fc-46b865ac7e25",
   "metadata": {},
   "outputs": [],
   "source": [
    "df_country=pd.read_excel('Country-Code.xlsx')"
   ]
  },
  {
   "cell_type": "code",
   "execution_count": 64,
   "id": "29655a00-970b-48cc-bcc9-4789804f91bf",
   "metadata": {},
   "outputs": [
    {
     "data": {
      "text/html": [
       "<div>\n",
       "<style scoped>\n",
       "    .dataframe tbody tr th:only-of-type {\n",
       "        vertical-align: middle;\n",
       "    }\n",
       "\n",
       "    .dataframe tbody tr th {\n",
       "        vertical-align: top;\n",
       "    }\n",
       "\n",
       "    .dataframe thead th {\n",
       "        text-align: right;\n",
       "    }\n",
       "</style>\n",
       "<table border=\"1\" class=\"dataframe\">\n",
       "  <thead>\n",
       "    <tr style=\"text-align: right;\">\n",
       "      <th></th>\n",
       "      <th>Country Code</th>\n",
       "      <th>Country</th>\n",
       "    </tr>\n",
       "  </thead>\n",
       "  <tbody>\n",
       "    <tr>\n",
       "      <th>0</th>\n",
       "      <td>1</td>\n",
       "      <td>India</td>\n",
       "    </tr>\n",
       "    <tr>\n",
       "      <th>2</th>\n",
       "      <td>30</td>\n",
       "      <td>Brazil</td>\n",
       "    </tr>\n",
       "    <tr>\n",
       "      <th>8</th>\n",
       "      <td>184</td>\n",
       "      <td>Singapore</td>\n",
       "    </tr>\n",
       "    <tr>\n",
       "      <th>1</th>\n",
       "      <td>14</td>\n",
       "      <td>Australia</td>\n",
       "    </tr>\n",
       "  </tbody>\n",
       "</table>\n",
       "</div>"
      ],
      "text/plain": [
       "   Country Code    Country\n",
       "0             1      India\n",
       "2            30     Brazil\n",
       "8           184  Singapore\n",
       "1            14  Australia"
      ]
     },
     "execution_count": 64,
     "metadata": {},
     "output_type": "execute_result"
    }
   ],
   "source": [
    "df_country.sample(4)"
   ]
  },
  {
   "cell_type": "code",
   "execution_count": 65,
   "id": "55972ab4-0361-49e8-bcdf-8653d06bf308",
   "metadata": {},
   "outputs": [],
   "source": [
    "# Final Data Frame\n",
    "df_final=pd.merge(df,df_country,on='Country Code',how='left')"
   ]
  },
  {
   "cell_type": "code",
   "execution_count": 66,
   "id": "cfde3062-af93-40ba-9310-4fa17f4e2df5",
   "metadata": {},
   "outputs": [
    {
     "data": {
      "text/plain": [
       "(9551, 22)"
      ]
     },
     "execution_count": 66,
     "metadata": {},
     "output_type": "execute_result"
    }
   ],
   "source": [
    "df_final.shape"
   ]
  },
  {
   "cell_type": "code",
   "execution_count": 67,
   "id": "a3f11a88-1545-433c-b09b-f1480ca80b77",
   "metadata": {},
   "outputs": [
    {
     "data": {
      "text/plain": [
       "Restaurant ID             int64\n",
       "Restaurant Name          object\n",
       "Country Code              int64\n",
       "City                     object\n",
       "Address                  object\n",
       "Locality                 object\n",
       "Locality Verbose         object\n",
       "Longitude               float64\n",
       "Latitude                float64\n",
       "Cuisines                 object\n",
       "Average Cost for two      int64\n",
       "Currency                 object\n",
       "Has Table booking        object\n",
       "Has Online delivery      object\n",
       "Is delivering now        object\n",
       "Switch to order menu     object\n",
       "Price range               int64\n",
       "Aggregate rating        float64\n",
       "Rating color             object\n",
       "Rating text              object\n",
       "Votes                     int64\n",
       "Country                  object\n",
       "dtype: object"
      ]
     },
     "execution_count": 67,
     "metadata": {},
     "output_type": "execute_result"
    }
   ],
   "source": [
    "df_final.dtypes"
   ]
  },
  {
   "cell_type": "code",
   "execution_count": 68,
   "id": "b50c67ec-bc85-4002-bcd0-c1d8ecf51e28",
   "metadata": {},
   "outputs": [
    {
     "data": {
      "text/plain": [
       "Index(['Restaurant ID', 'Restaurant Name', 'Country Code', 'City', 'Address',\n",
       "       'Locality', 'Locality Verbose', 'Longitude', 'Latitude', 'Cuisines',\n",
       "       'Average Cost for two', 'Currency', 'Has Table booking',\n",
       "       'Has Online delivery', 'Is delivering now', 'Switch to order menu',\n",
       "       'Price range', 'Aggregate rating', 'Rating color', 'Rating text',\n",
       "       'Votes', 'Country'],\n",
       "      dtype='object')"
      ]
     },
     "execution_count": 68,
     "metadata": {},
     "output_type": "execute_result"
    }
   ],
   "source": [
    "df_final.columns"
   ]
  },
  {
   "cell_type": "code",
   "execution_count": 69,
   "id": "90df0306-cfa6-4709-ad02-b8ed1c9fe323",
   "metadata": {},
   "outputs": [
    {
     "data": {
      "text/plain": [
       "Country\n",
       "India             8652\n",
       "United States      434\n",
       "United Kingdom      80\n",
       "Brazil              60\n",
       "UAE                 60\n",
       "South Africa        60\n",
       "New Zealand         40\n",
       "Turkey              34\n",
       "Australia           24\n",
       "Phillipines         22\n",
       "Indonesia           21\n",
       "Singapore           20\n",
       "Qatar               20\n",
       "Sri Lanka           20\n",
       "Canada               4\n",
       "Name: count, dtype: int64"
      ]
     },
     "execution_count": 69,
     "metadata": {},
     "output_type": "execute_result"
    }
   ],
   "source": [
    "df_final['Country'].value_counts()"
   ]
  },
  {
   "cell_type": "code",
   "execution_count": 70,
   "id": "bd72cd36-bc0a-4e33-b092-48e96e4a6fa3",
   "metadata": {},
   "outputs": [
    {
     "data": {
      "text/plain": [
       "Country\n",
       "India             8652\n",
       "United States      434\n",
       "United Kingdom      80\n",
       "Brazil              60\n",
       "UAE                 60\n",
       "Name: count, dtype: int64"
      ]
     },
     "execution_count": 70,
     "metadata": {},
     "output_type": "execute_result"
    }
   ],
   "source": [
    "top_countries = df_final['Country'].value_counts().head(5)\n",
    "top_countries"
   ]
  },
  {
   "cell_type": "markdown",
   "id": "63dae672-8a78-46b2-8e09-5f8f524eb562",
   "metadata": {},
   "source": [
    "<div style=\"background-color:silver; padding:10px;\">\n",
    "    <h5 style=\"font-weight:bold; color:black; text-align:left;\">1.Finding top 5 countries using Zomato</h5>\n",
    "</div>"
   ]
  },
  {
   "cell_type": "code",
   "execution_count": 71,
   "id": "545c2653-88ba-451a-9d23-9729bfd3a87a",
   "metadata": {},
   "outputs": [
    {
     "data": {
      "image/png": "[encoded data removed]",
      "text/plain": [
       "<Figure size 1000x600 with 1 Axes>"
      ]
     },
     "metadata": {},
     "output_type": "display_data"
    }
   ],
   "source": [
    "\n",
    "# Plotting the bar chart with transaction numbers on top\n",
    "plt.figure(figsize=(10, 6))\n",
    "bars = top_countries.plot(kind='bar', color='orange')\n",
    "plt.title('Top 5 Countries by Most Restaurant Counts')\n",
    "plt.xlabel('Country')\n",
    "plt.ylabel('Restaurant Counts')\n",
    "\n",
    "# Displaying transaction numbers on top of each bar\n",
    "for bar, count in zip(bars.patches, top_countries):\n",
    "    plt.text(bar.get_x() + bar.get_width() / 2 - 0.1, bar.get_height() + 0.1, str(count), ha='center', va='bottom')\n",
    "\n",
    "plt.show()"
   ]
  },
  {
   "cell_type": "markdown",
   "id": "752acd78-13d9-4618-8f1f-07eee25af683",
   "metadata": {},
   "source": [
    "<div style=\"background-color:orange; padding:10px;\">\n",
    "    <h3 style=\"font-weight:bold; color:black; text-align:left;\">Observations</h3>\n",
    "</div>"
   ]
  },
  {
   "cell_type": "markdown",
   "id": "56e09294-a7bc-482a-8e4f-705d1fbe3b88",
   "metadata": {},
   "source": [
    "1. **India (8652 restaurants):**\n",
    "   - India has the highest number of restaurants among the countries in the dataset, with 8652 restaurants.\n",
    "   - The high number of restaurants suggests that the dataset contains a significant representation of dining establishments located in India.\n",
    "\n",
    "2. **United States (434 restaurants):**\n",
    "   - The United States has the second-highest number of restaurants, with 434 restaurants.\n",
    "   - This indicates a substantial presence of restaurants from the United States in the dataset.\n",
    "\n",
    "3. **United Kingdom (80 restaurants):**\n",
    "   - The United Kingdom follows with 80 restaurants.\n",
    "   - The lower restaurant count compared to India and the United States suggests a smaller representation of restaurants from the United Kingdom in the dataset.\n",
    "\n",
    "4. **Brazil and UAE (60 restaurants each):**\n",
    "   - Brazil and the UAE share the fourth position with 60 restaurants each.\n",
    "   - Both countries have the same restaurant count, indicating a similar representation in the dataset."
   ]
  },
  {
   "cell_type": "markdown",
   "id": "35cb55cb-04ac-4347-9aaf-7514f150678d",
   "metadata": {},
   "source": [
    "<div style=\"background-color:silver; padding:10px;\">\n",
    "    <h5 style=\"font-weight:bold; color:black; text-align:left;\">2.Finding Rating Distribution</h5>\n",
    "</div>"
   ]
  },
  {
   "cell_type": "code",
   "execution_count": 72,
   "id": "32b9b613-2f88-4c27-a4cb-8e374a325237",
   "metadata": {},
   "outputs": [
    {
     "data": {
      "text/html": [
       "<div>\n",
       "<style scoped>\n",
       "    .dataframe tbody tr th:only-of-type {\n",
       "        vertical-align: middle;\n",
       "    }\n",
       "\n",
       "    .dataframe tbody tr th {\n",
       "        vertical-align: top;\n",
       "    }\n",
       "\n",
       "    .dataframe thead th {\n",
       "        text-align: right;\n",
       "    }\n",
       "</style>\n",
       "<table border=\"1\" class=\"dataframe\">\n",
       "  <thead>\n",
       "    <tr style=\"text-align: right;\">\n",
       "      <th></th>\n",
       "      <th>Aggregate rating</th>\n",
       "      <th>Rating color</th>\n",
       "      <th>Rating text</th>\n",
       "      <th>Rating count</th>\n",
       "    </tr>\n",
       "  </thead>\n",
       "  <tbody>\n",
       "    <tr>\n",
       "      <th>0</th>\n",
       "      <td>0.0</td>\n",
       "      <td>White</td>\n",
       "      <td>Not rated</td>\n",
       "      <td>2148</td>\n",
       "    </tr>\n",
       "    <tr>\n",
       "      <th>1</th>\n",
       "      <td>1.8</td>\n",
       "      <td>Red</td>\n",
       "      <td>Poor</td>\n",
       "      <td>1</td>\n",
       "    </tr>\n",
       "    <tr>\n",
       "      <th>2</th>\n",
       "      <td>1.9</td>\n",
       "      <td>Red</td>\n",
       "      <td>Poor</td>\n",
       "      <td>2</td>\n",
       "    </tr>\n",
       "    <tr>\n",
       "      <th>3</th>\n",
       "      <td>2.0</td>\n",
       "      <td>Red</td>\n",
       "      <td>Poor</td>\n",
       "      <td>7</td>\n",
       "    </tr>\n",
       "    <tr>\n",
       "      <th>4</th>\n",
       "      <td>2.1</td>\n",
       "      <td>Red</td>\n",
       "      <td>Poor</td>\n",
       "      <td>15</td>\n",
       "    </tr>\n",
       "    <tr>\n",
       "      <th>5</th>\n",
       "      <td>2.2</td>\n",
       "      <td>Red</td>\n",
       "      <td>Poor</td>\n",
       "      <td>27</td>\n",
       "    </tr>\n",
       "    <tr>\n",
       "      <th>6</th>\n",
       "      <td>2.3</td>\n",
       "      <td>Red</td>\n",
       "      <td>Poor</td>\n",
       "      <td>47</td>\n",
       "    </tr>\n",
       "    <tr>\n",
       "      <th>7</th>\n",
       "      <td>2.4</td>\n",
       "      <td>Red</td>\n",
       "      <td>Poor</td>\n",
       "      <td>87</td>\n",
       "    </tr>\n",
       "    <tr>\n",
       "      <th>8</th>\n",
       "      <td>2.5</td>\n",
       "      <td>Orange</td>\n",
       "      <td>Average</td>\n",
       "      <td>110</td>\n",
       "    </tr>\n",
       "    <tr>\n",
       "      <th>9</th>\n",
       "      <td>2.6</td>\n",
       "      <td>Orange</td>\n",
       "      <td>Average</td>\n",
       "      <td>191</td>\n",
       "    </tr>\n",
       "    <tr>\n",
       "      <th>10</th>\n",
       "      <td>2.7</td>\n",
       "      <td>Orange</td>\n",
       "      <td>Average</td>\n",
       "      <td>250</td>\n",
       "    </tr>\n",
       "    <tr>\n",
       "      <th>11</th>\n",
       "      <td>2.8</td>\n",
       "      <td>Orange</td>\n",
       "      <td>Average</td>\n",
       "      <td>315</td>\n",
       "    </tr>\n",
       "    <tr>\n",
       "      <th>12</th>\n",
       "      <td>2.9</td>\n",
       "      <td>Orange</td>\n",
       "      <td>Average</td>\n",
       "      <td>381</td>\n",
       "    </tr>\n",
       "    <tr>\n",
       "      <th>13</th>\n",
       "      <td>3.0</td>\n",
       "      <td>Orange</td>\n",
       "      <td>Average</td>\n",
       "      <td>468</td>\n",
       "    </tr>\n",
       "    <tr>\n",
       "      <th>14</th>\n",
       "      <td>3.1</td>\n",
       "      <td>Orange</td>\n",
       "      <td>Average</td>\n",
       "      <td>519</td>\n",
       "    </tr>\n",
       "    <tr>\n",
       "      <th>15</th>\n",
       "      <td>3.2</td>\n",
       "      <td>Orange</td>\n",
       "      <td>Average</td>\n",
       "      <td>522</td>\n",
       "    </tr>\n",
       "    <tr>\n",
       "      <th>16</th>\n",
       "      <td>3.3</td>\n",
       "      <td>Orange</td>\n",
       "      <td>Average</td>\n",
       "      <td>483</td>\n",
       "    </tr>\n",
       "    <tr>\n",
       "      <th>17</th>\n",
       "      <td>3.4</td>\n",
       "      <td>Orange</td>\n",
       "      <td>Average</td>\n",
       "      <td>498</td>\n",
       "    </tr>\n",
       "    <tr>\n",
       "      <th>18</th>\n",
       "      <td>3.5</td>\n",
       "      <td>Yellow</td>\n",
       "      <td>Good</td>\n",
       "      <td>480</td>\n",
       "    </tr>\n",
       "    <tr>\n",
       "      <th>19</th>\n",
       "      <td>3.6</td>\n",
       "      <td>Yellow</td>\n",
       "      <td>Good</td>\n",
       "      <td>458</td>\n",
       "    </tr>\n",
       "    <tr>\n",
       "      <th>20</th>\n",
       "      <td>3.7</td>\n",
       "      <td>Yellow</td>\n",
       "      <td>Good</td>\n",
       "      <td>427</td>\n",
       "    </tr>\n",
       "    <tr>\n",
       "      <th>21</th>\n",
       "      <td>3.8</td>\n",
       "      <td>Yellow</td>\n",
       "      <td>Good</td>\n",
       "      <td>400</td>\n",
       "    </tr>\n",
       "    <tr>\n",
       "      <th>22</th>\n",
       "      <td>3.9</td>\n",
       "      <td>Yellow</td>\n",
       "      <td>Good</td>\n",
       "      <td>335</td>\n",
       "    </tr>\n",
       "    <tr>\n",
       "      <th>23</th>\n",
       "      <td>4.0</td>\n",
       "      <td>Green</td>\n",
       "      <td>Very Good</td>\n",
       "      <td>266</td>\n",
       "    </tr>\n",
       "    <tr>\n",
       "      <th>24</th>\n",
       "      <td>4.1</td>\n",
       "      <td>Green</td>\n",
       "      <td>Very Good</td>\n",
       "      <td>274</td>\n",
       "    </tr>\n",
       "    <tr>\n",
       "      <th>25</th>\n",
       "      <td>4.2</td>\n",
       "      <td>Green</td>\n",
       "      <td>Very Good</td>\n",
       "      <td>221</td>\n",
       "    </tr>\n",
       "    <tr>\n",
       "      <th>26</th>\n",
       "      <td>4.3</td>\n",
       "      <td>Green</td>\n",
       "      <td>Very Good</td>\n",
       "      <td>174</td>\n",
       "    </tr>\n",
       "    <tr>\n",
       "      <th>27</th>\n",
       "      <td>4.4</td>\n",
       "      <td>Green</td>\n",
       "      <td>Very Good</td>\n",
       "      <td>144</td>\n",
       "    </tr>\n",
       "    <tr>\n",
       "      <th>28</th>\n",
       "      <td>4.5</td>\n",
       "      <td>Dark Green</td>\n",
       "      <td>Excellent</td>\n",
       "      <td>95</td>\n",
       "    </tr>\n",
       "    <tr>\n",
       "      <th>29</th>\n",
       "      <td>4.6</td>\n",
       "      <td>Dark Green</td>\n",
       "      <td>Excellent</td>\n",
       "      <td>78</td>\n",
       "    </tr>\n",
       "    <tr>\n",
       "      <th>30</th>\n",
       "      <td>4.7</td>\n",
       "      <td>Dark Green</td>\n",
       "      <td>Excellent</td>\n",
       "      <td>42</td>\n",
       "    </tr>\n",
       "    <tr>\n",
       "      <th>31</th>\n",
       "      <td>4.8</td>\n",
       "      <td>Dark Green</td>\n",
       "      <td>Excellent</td>\n",
       "      <td>25</td>\n",
       "    </tr>\n",
       "    <tr>\n",
       "      <th>32</th>\n",
       "      <td>4.9</td>\n",
       "      <td>Dark Green</td>\n",
       "      <td>Excellent</td>\n",
       "      <td>61</td>\n",
       "    </tr>\n",
       "  </tbody>\n",
       "</table>\n",
       "</div>"
      ],
      "text/plain": [
       "    Aggregate rating Rating color Rating text  Rating count\n",
       "0                0.0        White   Not rated          2148\n",
       "1                1.8          Red        Poor             1\n",
       "2                1.9          Red        Poor             2\n",
       "3                2.0          Red        Poor             7\n",
       "4                2.1          Red        Poor            15\n",
       "5                2.2          Red        Poor            27\n",
       "6                2.3          Red        Poor            47\n",
       "7                2.4          Red        Poor            87\n",
       "8                2.5       Orange     Average           110\n",
       "9                2.6       Orange     Average           191\n",
       "10               2.7       Orange     Average           250\n",
       "11               2.8       Orange     Average           315\n",
       "12               2.9       Orange     Average           381\n",
       "13               3.0       Orange     Average           468\n",
       "14               3.1       Orange     Average           519\n",
       "15               3.2       Orange     Average           522\n",
       "16               3.3       Orange     Average           483\n",
       "17               3.4       Orange     Average           498\n",
       "18               3.5       Yellow        Good           480\n",
       "19               3.6       Yellow        Good           458\n",
       "20               3.7       Yellow        Good           427\n",
       "21               3.8       Yellow        Good           400\n",
       "22               3.9       Yellow        Good           335\n",
       "23               4.0        Green   Very Good           266\n",
       "24               4.1        Green   Very Good           274\n",
       "25               4.2        Green   Very Good           221\n",
       "26               4.3        Green   Very Good           174\n",
       "27               4.4        Green   Very Good           144\n",
       "28               4.5   Dark Green   Excellent            95\n",
       "29               4.6   Dark Green   Excellent            78\n",
       "30               4.7   Dark Green   Excellent            42\n",
       "31               4.8   Dark Green   Excellent            25\n",
       "32               4.9   Dark Green   Excellent            61"
      ]
     },
     "execution_count": 72,
     "metadata": {},
     "output_type": "execute_result"
    }
   ],
   "source": [
    "rating=df_final.groupby(['Aggregate rating', 'Rating color', 'Rating text']).size().reset_index().rename(columns={0:'Rating count'})\n",
    "rating"
   ]
  },
  {
   "cell_type": "code",
   "execution_count": 73,
   "id": "27e39e04-f767-40dd-ad94-264c34220b42",
   "metadata": {},
   "outputs": [
    {
     "data": {
      "text/plain": [
       "<Axes: xlabel='Aggregate rating', ylabel='Rating count'>"
      ]
     },
     "execution_count": 73,
     "metadata": {},
     "output_type": "execute_result"
    },
    {
     "data": {
      "image/png": "[encoded data removed]",
      "text/plain": [
       "<Figure size 1200x600 with 1 Axes>"
      ]
     },
     "metadata": {},
     "output_type": "display_data"
    }
   ],
   "source": [
    "matplotlib.rcParams['figure.figsize'] = (12,6)\n",
    "sns.barplot(x='Aggregate rating',y='Rating count',data=rating)"
   ]
  },
  {
   "cell_type": "markdown",
   "id": "58d252f8-b7b7-4170-9208-32d951c0c7b8",
   "metadata": {},
   "source": [
    "<div style=\"background-color:orange; padding:10px;\">\n",
    "    <h3 style=\"font-weight:bold; color:black; text-align:left;\">Observations</h3>\n",
    "</div>"
   ]
  },
  {
   "cell_type": "markdown",
   "id": "def21d7d-ee84-4abc-8abc-3864dedeccc5",
   "metadata": {},
   "source": [
    "1. **Aggregate rating**: The data includes aggregate ratings ranging from 0.0 to 4.9, representing the overall rating of different items.\n",
    "\n",
    "2. **Rating text**: Qualitative descriptions of the ratings include labels such as \"Not rated,\" \"Poor,\" \"Average,\" \"Good,\" \"Very Good,\" and \"Excellent.\"\n",
    "\n",
    "3. **Rating count**: Indicates the number of ratings contributing to each aggregate rating. Higher-rated items generally have fewer counts, suggesting they are less common or more specialized.\n",
    "\n",
    "4. **Positive trend**: The ratings exhibit a generally positive trend, with lower ratings having higher counts and higher ratings having lower counts.\n",
    "\n",
    "5. **Common ratings**: Items with aggregate ratings between 2.8 and 3.9 have the most significant number of ratings, indicating they are more common or cover a broader range of items.\n",
    "\n",
    "6. **Rare but highly rated items**: Ratings above 4.1 ( Very Good, Excellent) have lower counts, suggesting that items in these categories are relatively rare or specialized but highly rated.\n",
    "\n",
    "7. **Distribution**: The majority of ratings are in the 'Not rated' category, followed by a normal distribution across the rating spectrum from 'Poor' to 'Excellent'\n",
    "\n",
    "8. **Not rated items**: The \"Not rated\" category has a substantial number of ratings (2148), indicating that a significant portion of items in the dataset has not been assigned a specific rating.\n"
   ]
  },
  {
   "cell_type": "code",
   "execution_count": 74,
   "id": "ab36c141-e212-4fe8-8795-0090ba7ffd40",
   "metadata": {},
   "outputs": [
    {
     "data": {
      "text/plain": [
       "<Axes: xlabel='Aggregate rating', ylabel='Rating count'>"
      ]
     },
     "execution_count": 74,
     "metadata": {},
     "output_type": "execute_result"
    },
    {
     "data": {
      "image/png": "[encoded data removed]",
      "text/plain": [
       "<Figure size 1200x600 with 1 Axes>"
      ]
     },
     "metadata": {},
     "output_type": "display_data"
    }
   ],
   "source": [
    "matplotlib.rcParams['figure.figsize'] = (12,6)\n",
    "sns.barplot(x='Aggregate rating',y='Rating count',hue='Rating color',data=rating,palette=['cyan','red','orange','yellow','green','green'] )"
   ]
  },
  {
   "cell_type": "markdown",
   "id": "5abdd5ff-e35c-4ceb-8fe4-ba37bc98cc26",
   "metadata": {},
   "source": [
    "<div style=\"background-color:silver; padding:10px;\">\n",
    "    <h5 style=\"font-weight:bold; color:black; text-align:left;\">3.Finding Countries Which Has Given Zero Rating</h5>\n",
    "</div>"
   ]
  },
  {
   "cell_type": "code",
   "execution_count": 75,
   "id": "a2520675-ae21-496e-b695-6bd594a8c1dd",
   "metadata": {},
   "outputs": [],
   "source": [
    "zero_rating_counts_df = df_final.query(\"`Aggregate rating` == 0\")['Country'].value_counts().reset_index()"
   ]
  },
  {
   "cell_type": "code",
   "execution_count": 76,
   "id": "29594b66-83fe-4929-93dd-ffb6913348b3",
   "metadata": {},
   "outputs": [
    {
     "data": {
      "text/html": [
       "<div>\n",
       "<style scoped>\n",
       "    .dataframe tbody tr th:only-of-type {\n",
       "        vertical-align: middle;\n",
       "    }\n",
       "\n",
       "    .dataframe tbody tr th {\n",
       "        vertical-align: top;\n",
       "    }\n",
       "\n",
       "    .dataframe thead th {\n",
       "        text-align: right;\n",
       "    }\n",
       "</style>\n",
       "<table border=\"1\" class=\"dataframe\">\n",
       "  <thead>\n",
       "    <tr style=\"text-align: right;\">\n",
       "      <th></th>\n",
       "      <th>Country</th>\n",
       "      <th>count</th>\n",
       "    </tr>\n",
       "  </thead>\n",
       "  <tbody>\n",
       "    <tr>\n",
       "      <th>0</th>\n",
       "      <td>India</td>\n",
       "      <td>2139</td>\n",
       "    </tr>\n",
       "    <tr>\n",
       "      <th>1</th>\n",
       "      <td>Brazil</td>\n",
       "      <td>5</td>\n",
       "    </tr>\n",
       "    <tr>\n",
       "      <th>2</th>\n",
       "      <td>United States</td>\n",
       "      <td>3</td>\n",
       "    </tr>\n",
       "    <tr>\n",
       "      <th>3</th>\n",
       "      <td>United Kingdom</td>\n",
       "      <td>1</td>\n",
       "    </tr>\n",
       "  </tbody>\n",
       "</table>\n",
       "</div>"
      ],
      "text/plain": [
       "          Country  count\n",
       "0           India   2139\n",
       "1          Brazil      5\n",
       "2   United States      3\n",
       "3  United Kingdom      1"
      ]
     },
     "execution_count": 76,
     "metadata": {},
     "output_type": "execute_result"
    }
   ],
   "source": [
    "zero_rating_counts_df"
   ]
  },
  {
   "cell_type": "markdown",
   "id": "151019f1-cab4-4894-93b2-61c01d6ed05c",
   "metadata": {},
   "source": [
    "<div style=\"background-color:orange; padding:10px;\">\n",
    "    <h3 style=\"font-weight:bold; color:black; text-align:left;\">Observations on Countries with Zero Ratings</h3>\n",
    "</div>"
   ]
  },
  {
   "cell_type": "markdown",
   "id": "a31bbeab-be64-435f-91fa-3f07bf13eac7",
   "metadata": {},
   "source": [
    "1. **India:** \n",
    "   - Has the highest count of zero ratings, with a total of 2139 instances where the aggregate rating is 0.\n",
    "\n",
    "2. **Brazil:**\n",
    "   - Follows India with a relatively lower count of zero ratings, specifically 5 instances.\n",
    "\n",
    "3. **United States:**\n",
    "   - Shows a very small number of zero ratings, with only 3 instances.\n",
    "\n",
    "4. **United Kingdom:**\n",
    "   - Appears to have an even smaller count, with just 1 instance of zero rating.\n",
    "\n",
    "These observations indicate that India has a significantly higher number of zero ratings compared to the other countries in the dataset. The counts decrease progressively for Brazil, the United States, and the United Kingdom.\n"
   ]
  },
  {
   "cell_type": "markdown",
   "id": "bf2a0913-1c49-4c2c-9076-3b3a7c10ea59",
   "metadata": {},
   "source": [
    "<div style=\"background-color:silver; padding:10px;\">\n",
    "    <h5 style=\"font-weight:bold; color:black; text-align:left;\"> 4.Countries providing online delivery service</h5>\n",
    "</div>"
   ]
  },
  {
   "cell_type": "code",
   "execution_count": 77,
   "id": "f99dcd5a-686e-4153-b2b8-29649717cecc",
   "metadata": {},
   "outputs": [],
   "source": [
    "countries_with_online_delivery=df_final.query(\"`Has Online delivery` == 'Yes'\")['Country'].value_counts().reset_index()"
   ]
  },
  {
   "cell_type": "code",
   "execution_count": 78,
   "id": "321f1a3e-c10d-4a6c-85a0-bc3a03eeac5a",
   "metadata": {},
   "outputs": [
    {
     "data": {
      "text/html": [
       "<div>\n",
       "<style scoped>\n",
       "    .dataframe tbody tr th:only-of-type {\n",
       "        vertical-align: middle;\n",
       "    }\n",
       "\n",
       "    .dataframe tbody tr th {\n",
       "        vertical-align: top;\n",
       "    }\n",
       "\n",
       "    .dataframe thead th {\n",
       "        text-align: right;\n",
       "    }\n",
       "</style>\n",
       "<table border=\"1\" class=\"dataframe\">\n",
       "  <thead>\n",
       "    <tr style=\"text-align: right;\">\n",
       "      <th></th>\n",
       "      <th>Country</th>\n",
       "      <th>count</th>\n",
       "    </tr>\n",
       "  </thead>\n",
       "  <tbody>\n",
       "    <tr>\n",
       "      <th>0</th>\n",
       "      <td>India</td>\n",
       "      <td>2423</td>\n",
       "    </tr>\n",
       "    <tr>\n",
       "      <th>1</th>\n",
       "      <td>UAE</td>\n",
       "      <td>28</td>\n",
       "    </tr>\n",
       "  </tbody>\n",
       "</table>\n",
       "</div>"
      ],
      "text/plain": [
       "  Country  count\n",
       "0   India   2423\n",
       "1     UAE     28"
      ]
     },
     "execution_count": 78,
     "metadata": {},
     "output_type": "execute_result"
    }
   ],
   "source": [
    "countries_with_online_delivery"
   ]
  },
  {
   "cell_type": "markdown",
   "id": "15fc2f22-36e4-4885-803f-b7762d6b7c29",
   "metadata": {},
   "source": [
    "<div style=\"background-color:orange; padding:10px;\">\n",
    "    <h3 style=\"font-weight:bold; color:black; text-align:left;\">Observations</h3>\n",
    "</div>"
   ]
  },
  {
   "cell_type": "markdown",
   "id": "5cc51e1e-7ba4-4aae-98e6-615fdea6e45f",
   "metadata": {},
   "source": [
    "1. **India:**\n",
    "   - Stands out with the highest count of restaurants providing online delivery service, totaling 2423.\n",
    "\n",
    "2. **UAE:**\n",
    "   - Follows India with a considerably lower count of 28 restaurants offering online delivery service.\n",
    "\n",
    "These observations highlight that India has a significantly higher number of restaurants providing online delivery compared to the UAE, indicating a potentially more widespread availability of online delivery services in India within the given dataset.\n"
   ]
  },
  {
   "cell_type": "markdown",
   "id": "92879562-4e38-4123-bdd5-548aa4556688",
   "metadata": {},
   "source": [
    "<div style=\"background-color:silver; padding:10px;\">\n",
    "    <h5 style=\"font-weight:bold; color:black; text-align:left;\">5.Finding top 5 Cities with most number of restaurants.</h5>\n",
    "</div>"
   ]
  },
  {
   "cell_type": "code",
   "execution_count": 79,
   "id": "ee3ff5aa-a8df-40c2-8528-c514b951af4c",
   "metadata": {},
   "outputs": [],
   "source": [
    "restaurants_count_by_city = df_final.groupby('City')['Restaurant ID'].nunique().reset_index()\n",
    "restaurants_count_by_city.columns = ['City', 'Number of Restaurants']"
   ]
  },
  {
   "cell_type": "code",
   "execution_count": 80,
   "id": "fe3c1bce-7130-4229-aae1-db391cff1a20",
   "metadata": {},
   "outputs": [
    {
     "data": {
      "text/html": [
       "<div>\n",
       "<style scoped>\n",
       "    .dataframe tbody tr th:only-of-type {\n",
       "        vertical-align: middle;\n",
       "    }\n",
       "\n",
       "    .dataframe tbody tr th {\n",
       "        vertical-align: top;\n",
       "    }\n",
       "\n",
       "    .dataframe thead th {\n",
       "        text-align: right;\n",
       "    }\n",
       "</style>\n",
       "<table border=\"1\" class=\"dataframe\">\n",
       "  <thead>\n",
       "    <tr style=\"text-align: right;\">\n",
       "      <th></th>\n",
       "      <th>index</th>\n",
       "      <th>City</th>\n",
       "      <th>Number of Restaurants</th>\n",
       "    </tr>\n",
       "  </thead>\n",
       "  <tbody>\n",
       "    <tr>\n",
       "      <th>0</th>\n",
       "      <td>88</td>\n",
       "      <td>New Delhi</td>\n",
       "      <td>5473</td>\n",
       "    </tr>\n",
       "    <tr>\n",
       "      <th>1</th>\n",
       "      <td>50</td>\n",
       "      <td>Gurgaon</td>\n",
       "      <td>1118</td>\n",
       "    </tr>\n",
       "    <tr>\n",
       "      <th>2</th>\n",
       "      <td>89</td>\n",
       "      <td>Noida</td>\n",
       "      <td>1080</td>\n",
       "    </tr>\n",
       "    <tr>\n",
       "      <th>3</th>\n",
       "      <td>43</td>\n",
       "      <td>Faridabad</td>\n",
       "      <td>251</td>\n",
       "    </tr>\n",
       "    <tr>\n",
       "      <th>4</th>\n",
       "      <td>48</td>\n",
       "      <td>Ghaziabad</td>\n",
       "      <td>25</td>\n",
       "    </tr>\n",
       "    <tr>\n",
       "      <th>5</th>\n",
       "      <td>17</td>\n",
       "      <td>Bhubaneshwar</td>\n",
       "      <td>21</td>\n",
       "    </tr>\n",
       "    <tr>\n",
       "      <th>6</th>\n",
       "      <td>69</td>\n",
       "      <td>Lucknow</td>\n",
       "      <td>21</td>\n",
       "    </tr>\n",
       "    <tr>\n",
       "      <th>7</th>\n",
       "      <td>5</td>\n",
       "      <td>Amritsar</td>\n",
       "      <td>21</td>\n",
       "    </tr>\n",
       "    <tr>\n",
       "      <th>8</th>\n",
       "      <td>2</td>\n",
       "      <td>Ahmedabad</td>\n",
       "      <td>21</td>\n",
       "    </tr>\n",
       "    <tr>\n",
       "      <th>9</th>\n",
       "      <td>51</td>\n",
       "      <td>Guwahati</td>\n",
       "      <td>21</td>\n",
       "    </tr>\n",
       "  </tbody>\n",
       "</table>\n",
       "</div>"
      ],
      "text/plain": [
       "   index          City  Number of Restaurants\n",
       "0     88     New Delhi                   5473\n",
       "1     50       Gurgaon                   1118\n",
       "2     89         Noida                   1080\n",
       "3     43     Faridabad                    251\n",
       "4     48     Ghaziabad                     25\n",
       "5     17  Bhubaneshwar                     21\n",
       "6     69       Lucknow                     21\n",
       "7      5      Amritsar                     21\n",
       "8      2     Ahmedabad                     21\n",
       "9     51      Guwahati                     21"
      ]
     },
     "execution_count": 80,
     "metadata": {},
     "output_type": "execute_result"
    }
   ],
   "source": [
    "restaurants_count_by_city.sort_values(by='Number of Restaurants',ascending=False).reset_index().head(10)"
   ]
  },
  {
   "cell_type": "code",
   "execution_count": 81,
   "id": "1dc839fc-0516-433e-bce2-7c97fc067a7f",
   "metadata": {},
   "outputs": [
    {
     "data": {
      "image/png": "[encoded data removed]",
      "text/plain": [
       "<Figure size 1200x600 with 1 Axes>"
      ]
     },
     "metadata": {},
     "output_type": "display_data"
    }
   ],
   "source": [
    "top_10_cities = restaurants_count_by_city.sort_values(by='Number of Restaurants', ascending=False).head(10)\n",
    "\n",
    "# Plotting the top 10 cities\n",
    "plt.figure(figsize=(12, 6))\n",
    "plt.bar(top_10_cities['City'], top_10_cities['Number of Restaurants'], color='orange')\n",
    "plt.title('Top 10 Cities with the Most Restaurants')\n",
    "plt.xlabel('City')\n",
    "plt.ylabel('Number of Restaurants')\n",
    "plt.xticks(rotation=45, ha='right')\n",
    "plt.show()"
   ]
  },
  {
   "cell_type": "markdown",
   "id": "d664166a-7722-4eda-b891-992006d1b656",
   "metadata": {},
   "source": [
    "<div style=\"background-color:orange; padding:10px;\">\n",
    "    <h3 style=\"font-weight:bold; color:black; text-align:left;\">Observations</h3>\n",
    "</div>"
   ]
  },
  {
   "cell_type": "markdown",
   "id": "d1ffc414-1ffa-4f5f-82b1-e94f6b5f34aa",
   "metadata": {},
   "source": [
    "- **Top Cities by Restaurants Count:**\r\n",
    "  1. **New Delhi:** Leads with the highest number of restaurants, totaling 5473 in the dataset.\r\n",
    "  2. **Gurgaon:** Comes second with a substantial count of 1118 restaurants.\r\n",
    "  3. **Noida:** Follows closely with 1080 restaurants.\r\n",
    "  4. **Faridabad:** Has a significant but lower count compared to the top three, with 251 restaurants.\r\n",
    "  5. **Ghaziabad, Bhubaneshwar, Amritsar, Ahmedabad, Lucknow, Guwahati:** These cities share similar restaurant counts, each having 21 restaurions:**\r\n",
    "  - The distribution shows a clear dominance of New Delhi, Gurgaon, and Noida in terms of the number of restaurants, indicating these cities as major hubs for dining establishments.\r\n",
    "  - Faridabad stands out as a notable city with a substantial but lower count compared to the top three, and the remaining cities have similar counts, suggesting a relatively lower concentration of restaurants in those areas.\r\n"
   ]
  },
  {
   "cell_type": "markdown",
   "id": "0199cabd-3f7a-4dec-a106-73f41f02b140",
   "metadata": {},
   "source": [
    "<div style=\"background-color:silver; padding:10px;\">\n",
    "    <h5 style=\"font-weight:bold; color:black; text-align:left;\">6.Finding top 10 Cuisines.</h5>\n",
    "</div>"
   ]
  },
  {
   "cell_type": "code",
   "execution_count": 82,
   "id": "974b6296-27fd-4f04-a13e-5b24e97ea3d9",
   "metadata": {},
   "outputs": [],
   "source": [
    "top_cuisines = df_final['Cuisines'].value_counts().reset_index().head(10)"
   ]
  },
  {
   "cell_type": "code",
   "execution_count": 83,
   "id": "86a96330-b827-42bc-8fb4-42f15488eb70",
   "metadata": {},
   "outputs": [
    {
     "data": {
      "text/html": [
       "<div>\n",
       "<style scoped>\n",
       "    .dataframe tbody tr th:only-of-type {\n",
       "        vertical-align: middle;\n",
       "    }\n",
       "\n",
       "    .dataframe tbody tr th {\n",
       "        vertical-align: top;\n",
       "    }\n",
       "\n",
       "    .dataframe thead th {\n",
       "        text-align: right;\n",
       "    }\n",
       "</style>\n",
       "<table border=\"1\" class=\"dataframe\">\n",
       "  <thead>\n",
       "    <tr style=\"text-align: right;\">\n",
       "      <th></th>\n",
       "      <th>Cuisines</th>\n",
       "      <th>count</th>\n",
       "    </tr>\n",
       "  </thead>\n",
       "  <tbody>\n",
       "    <tr>\n",
       "      <th>0</th>\n",
       "      <td>North Indian</td>\n",
       "      <td>936</td>\n",
       "    </tr>\n",
       "    <tr>\n",
       "      <th>1</th>\n",
       "      <td>North Indian, Chinese</td>\n",
       "      <td>511</td>\n",
       "    </tr>\n",
       "    <tr>\n",
       "      <th>2</th>\n",
       "      <td>Chinese</td>\n",
       "      <td>354</td>\n",
       "    </tr>\n",
       "    <tr>\n",
       "      <th>3</th>\n",
       "      <td>Fast Food</td>\n",
       "      <td>354</td>\n",
       "    </tr>\n",
       "    <tr>\n",
       "      <th>4</th>\n",
       "      <td>North Indian, Mughlai</td>\n",
       "      <td>334</td>\n",
       "    </tr>\n",
       "    <tr>\n",
       "      <th>5</th>\n",
       "      <td>Cafe</td>\n",
       "      <td>299</td>\n",
       "    </tr>\n",
       "    <tr>\n",
       "      <th>6</th>\n",
       "      <td>Bakery</td>\n",
       "      <td>218</td>\n",
       "    </tr>\n",
       "    <tr>\n",
       "      <th>7</th>\n",
       "      <td>North Indian, Mughlai, Chinese</td>\n",
       "      <td>197</td>\n",
       "    </tr>\n",
       "    <tr>\n",
       "      <th>8</th>\n",
       "      <td>Bakery, Desserts</td>\n",
       "      <td>170</td>\n",
       "    </tr>\n",
       "    <tr>\n",
       "      <th>9</th>\n",
       "      <td>Street Food</td>\n",
       "      <td>149</td>\n",
       "    </tr>\n",
       "  </tbody>\n",
       "</table>\n",
       "</div>"
      ],
      "text/plain": [
       "                         Cuisines  count\n",
       "0                    North Indian    936\n",
       "1           North Indian, Chinese    511\n",
       "2                         Chinese    354\n",
       "3                       Fast Food    354\n",
       "4           North Indian, Mughlai    334\n",
       "5                            Cafe    299\n",
       "6                          Bakery    218\n",
       "7  North Indian, Mughlai, Chinese    197\n",
       "8                Bakery, Desserts    170\n",
       "9                     Street Food    149"
      ]
     },
     "execution_count": 83,
     "metadata": {},
     "output_type": "execute_result"
    }
   ],
   "source": [
    "top_cuisines"
   ]
  },
  {
   "cell_type": "markdown",
   "id": "c100d021-9f85-42d0-bf1e-a6f252353e36",
   "metadata": {},
   "source": [
    "<div style=\"background-color:orange; padding:10px;\">\n",
    "    <h3 style=\"font-weight:bold; color:black; text-align:left;\">Observations on top Cuisines</h3>\n",
    "</div>"
   ]
  },
  {
   "cell_type": "markdown",
   "id": "4c08e87f-486c-4529-bd3d-0f129259eacd",
   "metadata": {},
   "source": [
    "1. **Diversity of Cuisines:**\n",
    "   - The dataset shows a diverse range of cuisines, with North Indian, Chinese, and Fast Food being the most prevalent.\n",
    "\n",
    "2. **Popular Combinations:**\n",
    "   - Combinations such as 'North Indian, Chinese' and 'North Indian, Mughlai, Chinese' indicate a preference for mixed cuisines.\n",
    "\n",
    "3. **Fast Food Trend:**\n",
    "   - Fast Food appears to be a popular choice, ranking fourth in the list.\n",
    "\n",
    "4. **Cafe and Bakery Presence:**\n",
    "   - Cafe and Bakery cuisines also have a significant presence in the top ten, reflecting a preference for casual dining and desserts.\n",
    "\n",
    "5. **Regional Influence:**\n",
    "   - North Indian and Mughlai cuisines have a noticeable presence, suggesting a regional influence on food choices.\n",
    "\n",
    "6. **Variety in Street Food:**\n",
    "   - Street Food makes it to the top ten, showcasing an appreciation for diverse and local flavors.\n"
   ]
  },
  {
   "cell_type": "markdown",
   "id": "65e3c476-6cf3-4c44-9109-93e2ff2679db",
   "metadata": {},
   "source": [
    "<div style=\"background-color:orange; padding:10px; text-align:center;\">\n",
    "    <h1 style=\"font-weight:bold; color:black;\">Recommendations Based on Observations:</h1>\n",
    "</div>"
   ]
  },
  {
   "cell_type": "markdown",
   "id": "f63baa4e-22b3-4553-b464-a9ac8f2ea52b",
   "metadata": {},
   "source": [
    "<details style=\"background-color: #f3f3f3; border-radius: 5px; padding: 10px;\">\n",
    "  <summary><b style=\"font-size: 18px; color: #007acc;\">Major Recommendations  are:</b></summary>\n",
    "\n",
    "  1. <b style=\"color: #4CAF50;\">**Market Focus:**</b>\n",
    " - **India:** With the highest number of restaurants, India represents a substantial portion of the dataset. Consider focusing marketing efforts or feature enhancements to cater to the preferences and needs of the Indian market.\n",
    "  2. <b style=\"color: #4CAF50;\">**Rating Strategies:**</b>\n",
    " - **Positive Trend:** Leverage the positive trend in ratings by highlighting highly-rated items. Encourage user reviews and engagement to build trust and credibility.\n",
    "  3. <b style=\"color: #4CAF50;\">**Zero Ratings Analysis:**</b>\n",
    " - **India:** Given the significant count of zero ratings in India, investigate and address potential issues affecting ratings, such as service quality, menu variety, or delivery issues.\n",
    " - **Brazil, USA, UK:** While zero ratings are relatively low for these countries, still investigate and address any issues to maintain a positive user experience.\n",
    "  4. <b style=\"color: #4CAF50;\">**Online Delivery Services:**</b>\n",
    " - **India:** Capitalize on the high number of restaurants providing online delivery services. Explore partnerships, promotions, or features that enhance the online delivery experience.\n",
    " - **UAE:** Despite a lower count, consider strategies to increase the availability of online delivery services in the UAE, responding to the growing demand for convenience.\n",
    "  5. <b style=\"color: #4CAF50;\">**City-Specific Strategies:**</b>\n",
    " - **New Delhi, Gurgaon, Noida:** Since these cities dominate in terms of restaurant count, implement city-specific marketing strategies, promotions, or partnerships to further engage users.\n",
    " - **Faridabad and Other Cities:** Explore opportunities to expand the restaurant network in Faridabad and other cities with lower counts to improve coverage and accessibility.\n",
    "  6. <b style=\"color: #4CAF50;\">**Cuisine Recommendations:**</b>\n",
    " - **Diverse Cuisines:** Acknowledge the diverse range of cuisines in the dataset, emphasizing the popularity of North Indian, Chinese, and Fast Food.\n",
    " - **Mixed Cuisines:** Promote mixed cuisine options, as combinations like 'North Indian, Chinese' and 'North Indian, Mughlai, Chinese' are popular.\n",
    " - **Fast Food and Desserts:** Highlight the popularity of Fast Food, Cafe, and Bakery cuisines, catering to users who prefer casual dining and desserts.\n",
    " - **Regional Influence:** Consider promoting North Indian and Mughlai cuisines, recognizing their regional influence on food choices.\n",
    " - **Street Food:** Emphasize the variety in Street Food, appealing to users who appreciate diverse and local flavors.\n",
    "\n",
    "Implementing these recommendations can enhance user satisfaction, attract a wider audience, and optimize services based on the observed patterns in the dataset. Continual analysis and adaptation to evolving trends will further contribute to the success of the platform.\n",
    "\n",
    "</details>\n"
   ]
  },
  {
   "cell_type": "code",
   "execution_count": null,
   "id": "2fad6284-80e9-4d47-903c-3444371e04a5",
   "metadata": {},
   "outputs": [],
   "source": []
  }
 ],
 "metadata": {
  "kernelspec": {
   "display_name": "Python 3 (ipykernel)",
   "language": "python",
   "name": "python3"
  },
  "language_info": {
   "codemirror_mode": {
    "name": "ipython",
    "version": 3
   },
   "file_extension": ".py",
   "mimetype": "text/x-python",
   "name": "python",
   "nbconvert_exporter": "python",
   "pygments_lexer": "ipython3",
   "version": "3.11.5"
  }
 },
 "nbformat": 4,
 "nbformat_minor": 5
}
